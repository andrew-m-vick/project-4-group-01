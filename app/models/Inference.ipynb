{
 "cells": [
  {
   "cell_type": "code",
   "execution_count": 1,
   "id": "03c9a7de-f07d-47c0-b53d-6c569ac735e9",
   "metadata": {},
   "outputs": [],
   "source": [
    "# Import the required modules\n",
    "import pandas as pd\n",
    "pd.set_option('display.max_columns', None)\n",
    "import numpy as np\n",
    "\n",
    "# visualization\n",
    "import matplotlib.pyplot as plt\n",
    "import seaborn as sns\n",
    "\n",
    "# Machine Learning\n",
    "from sklearn.model_selection import train_test_split\n",
    "from sklearn.linear_model import LogisticRegression, LinearRegression, Lasso, Ridge, ElasticNet\n",
    "from sklearn.tree import DecisionTreeRegressor\n",
    "from sklearn.ensemble import RandomForestRegressor, AdaBoostRegressor, ExtraTreesRegressor, GradientBoostingRegressor\n",
    "from sklearn.svm import SVC\n",
    "from sklearn.neighbors import KNeighborsClassifier\n",
    "from sklearn.metrics import r2_score, mean_squared_error, mean_absolute_error\n",
    "from sklearn.preprocessing import StandardScaler\n",
    "\n",
    "import pickle\n",
    "\n",
    "# suppress warnings\n",
    "import warnings\n",
    "warnings.filterwarnings('ignore')\n"
   ]
  },
  {
   "cell_type": "code",
   "execution_count": 2,
   "id": "67495cb9-3a07-48b1-9a64-145d846376cf",
   "metadata": {},
   "outputs": [],
   "source": [
    "# Load the model\n",
    "with open('car_model.pkl', 'rb') as file:\n",
    "    model = pickle.load(file)"
   ]
  },
  {
   "cell_type": "code",
   "execution_count": 10,
   "id": "09a58e39-6965-47ed-8955-b3d28efe9499",
   "metadata": {},
   "outputs": [],
   "source": [
    "data = {\n",
    "    'miles': [41815],\n",
    "    'year': [2019],\n",
    "    'make': ['Hyundai'],\n",
    "    'body_type': ['Coupe'],\n",
    "    'vehicle_type': ['Car'],\n",
    "    'drivetrain': ['FWD'],\n",
    "    'transmission': ['Manual'],\n",
    "    'fuel_type': ['gas'],\n",
    "    'engine_size': [1],\n",
    "    'engine_block': ['I'],\n",
    "    'state': ['IN']\n",
    "    # Add more features as necessary\n",
    "}\n",
    "input_df = pd.DataFrame(data)"
   ]
  },
  {
   "cell_type": "code",
   "execution_count": 11,
   "id": "2852ad2d-926b-4830-bc41-2fd56a2d80a8",
   "metadata": {},
   "outputs": [
    {
     "name": "stdout",
     "output_type": "stream",
     "text": [
      "   Predictions\n",
      "0  23139.23904\n"
     ]
    }
   ],
   "source": [
    "predictions = model.predict(input_df)\n",
    "predictions = np.exp(predictions)\n",
    "# Convert predictions to a DataFrame for better visualization (optional)\n",
    "predictions_df = pd.DataFrame(predictions, columns=['Predictions'])\n",
    "print(predictions_df)"
   ]
  },
  {
   "cell_type": "code",
   "execution_count": 18,
   "id": "b6e639e1-7dee-40fa-9839-fafbc8164f44",
   "metadata": {},
   "outputs": [],
   "source": [
    "data2 = {\n",
    "    'miles': [10000],\n",
    "    'year': [2022],\n",
    "    'make': ['Porsche'],\n",
    "    'body_type': ['Coupe'],\n",
    "    'vehicle_type': ['Car'],\n",
    "    'drivetrain': ['FWD'],\n",
    "    'transmission': ['Automatic'],\n",
    "    'fuel_type': ['gas'],\n",
    "    'engine_size': [5],\n",
    "    'engine_block': ['I'],\n",
    "    'state': ['WI']\n",
    "    # Add more features as necessary\n",
    "}\n",
    "input_df2 = pd.DataFrame(data2)"
   ]
  },
  {
   "cell_type": "code",
   "execution_count": 19,
   "id": "17f6cdda-6eb4-4ccf-97fc-c4be343bb9b8",
   "metadata": {},
   "outputs": [
    {
     "name": "stdout",
     "output_type": "stream",
     "text": [
      "    Predictions\n",
      "0  99206.801912\n"
     ]
    }
   ],
   "source": [
    "predictions = model.predict(input_df2)\n",
    "predictions = np.exp(predictions)\n",
    "# Convert predictions to a DataFrame for better visualization (optional)\n",
    "predictions_df = pd.DataFrame(predictions, columns=['Predictions'])\n",
    "print(predictions_df)"
   ]
  },
  {
   "cell_type": "code",
   "execution_count": null,
   "id": "7651a818-feb2-4c97-9874-fa2c3bb5ce6f",
   "metadata": {},
   "outputs": [],
   "source": []
  }
 ],
 "metadata": {
  "kernelspec": {
   "display_name": "Python 3 (ipykernel)",
   "language": "python",
   "name": "python3"
  },
  "language_info": {
   "codemirror_mode": {
    "name": "ipython",
    "version": 3
   },
   "file_extension": ".py",
   "mimetype": "text/x-python",
   "name": "python",
   "nbconvert_exporter": "python",
   "pygments_lexer": "ipython3",
   "version": "3.10.14"
  }
 },
 "nbformat": 4,
 "nbformat_minor": 5
}
